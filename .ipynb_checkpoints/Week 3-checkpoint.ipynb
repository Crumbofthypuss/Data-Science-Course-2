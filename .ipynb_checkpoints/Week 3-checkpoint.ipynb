{
 "cells": [
  {
   "cell_type": "code",
   "execution_count": 8,
   "metadata": {},
   "outputs": [
    {
     "data": {
      "text/html": [
       "<dl>\n",
       "\t<dt>$a</dt>\n",
       "\t\t<dd>3</dd>\n",
       "\t<dt>$b</dt>\n",
       "\t\t<dd>0.281152471295553</dd>\n",
       "\t<dt>$c</dt>\n",
       "\t\t<dd>1.0786185062145</dd>\n",
       "\t<dt>$d</dt>\n",
       "\t\t<dd>5.11393221424493</dd>\n",
       "</dl>\n"
      ],
      "text/latex": [
       "\\begin{description}\n",
       "\\item[\\$a] 3\n",
       "\\item[\\$b] 0.281152471295553\n",
       "\\item[\\$c] 1.0786185062145\n",
       "\\item[\\$d] 5.11393221424493\n",
       "\\end{description}\n"
      ],
      "text/markdown": [
       "$a\n",
       ":   3\n",
       "$b\n",
       ":   0.281152471295553\n",
       "$c\n",
       ":   1.0786185062145\n",
       "$d\n",
       ":   5.11393221424493\n",
       "\n",
       "\n"
      ],
      "text/plain": [
       "$a\n",
       "[1] 3\n",
       "\n",
       "$b\n",
       "[1] 0.2811525\n",
       "\n",
       "$c\n",
       "[1] 1.078619\n",
       "\n",
       "$d\n",
       "[1] 5.113932\n"
      ]
     },
     "metadata": {},
     "output_type": "display_data"
    },
    {
     "data": {
      "text/html": [
       "<dl class=dl-horizontal>\n",
       "\t<dt>a</dt>\n",
       "\t\t<dd>3</dd>\n",
       "\t<dt>b</dt>\n",
       "\t\t<dd>0.281152471295553</dd>\n",
       "\t<dt>c</dt>\n",
       "\t\t<dd>1.0786185062145</dd>\n",
       "\t<dt>d</dt>\n",
       "\t\t<dd>5.11393221424493</dd>\n",
       "</dl>\n"
      ],
      "text/latex": [
       "\\begin{description*}\n",
       "\\item[a] 3\n",
       "\\item[b] 0.281152471295553\n",
       "\\item[c] 1.0786185062145\n",
       "\\item[d] 5.11393221424493\n",
       "\\end{description*}\n"
      ],
      "text/markdown": [
       "a\n",
       ":   3b\n",
       ":   0.281152471295553c\n",
       ":   1.0786185062145d\n",
       ":   5.11393221424493\n",
       "\n"
      ],
      "text/plain": [
       "        a         b         c         d \n",
       "3.0000000 0.2811525 1.0786185 5.1139322 "
      ]
     },
     "metadata": {},
     "output_type": "display_data"
    },
    {
     "data": {
      "text/html": [
       "<ol>\n",
       "\t<li>5.96634142100811</li>\n",
       "\t<li><ol class=list-inline>\n",
       "\t<li>8.96850713761523</li>\n",
       "\t<li>3.85221486678347</li>\n",
       "</ol>\n",
       "</li>\n",
       "\t<li><ol class=list-inline>\n",
       "\t<li>7.41803737124428</li>\n",
       "\t<li>3.99245825363323</li>\n",
       "\t<li>4.86381890717894</li>\n",
       "</ol>\n",
       "</li>\n",
       "\t<li><ol class=list-inline>\n",
       "\t<li>4.75098903523758</li>\n",
       "\t<li>1.03576346300542</li>\n",
       "\t<li>0.0599284539930522</li>\n",
       "\t<li>6.99724710080773</li>\n",
       "</ol>\n",
       "</li>\n",
       "</ol>\n"
      ],
      "text/latex": [
       "\\begin{enumerate}\n",
       "\\item 5.96634142100811\n",
       "\\item \\begin{enumerate*}\n",
       "\\item 8.96850713761523\n",
       "\\item 3.85221486678347\n",
       "\\end{enumerate*}\n",
       "\n",
       "\\item \\begin{enumerate*}\n",
       "\\item 7.41803737124428\n",
       "\\item 3.99245825363323\n",
       "\\item 4.86381890717894\n",
       "\\end{enumerate*}\n",
       "\n",
       "\\item \\begin{enumerate*}\n",
       "\\item 4.75098903523758\n",
       "\\item 1.03576346300542\n",
       "\\item 0.0599284539930522\n",
       "\\item 6.99724710080773\n",
       "\\end{enumerate*}\n",
       "\n",
       "\\end{enumerate}\n"
      ],
      "text/markdown": [
       "1. 5.96634142100811\n",
       "2. 1. 8.96850713761523\n",
       "2. 3.85221486678347\n",
       "\n",
       "\n",
       "\n",
       "3. 1. 7.41803737124428\n",
       "2. 3.99245825363323\n",
       "3. 4.86381890717894\n",
       "\n",
       "\n",
       "\n",
       "4. 1. 4.75098903523758\n",
       "2. 1.03576346300542\n",
       "3. 0.0599284539930522\n",
       "4. 6.99724710080773\n",
       "\n",
       "\n",
       "\n",
       "\n",
       "\n"
      ],
      "text/plain": [
       "[[1]]\n",
       "[1] 5.966341\n",
       "\n",
       "[[2]]\n",
       "[1] 8.968507 3.852215\n",
       "\n",
       "[[3]]\n",
       "[1] 7.418037 3.992458 4.863819\n",
       "\n",
       "[[4]]\n",
       "[1] 4.75098904 1.03576346 0.05992845 6.99724710\n"
      ]
     },
     "metadata": {},
     "output_type": "display_data"
    },
    {
     "data": {
      "text/html": [
       "<dl>\n",
       "\t<dt>$a</dt>\n",
       "\t\t<dd><ol class=list-inline>\n",
       "\t<li>1</li>\n",
       "\t<li>2</li>\n",
       "</ol>\n",
       "</dd>\n",
       "\t<dt>$b</dt>\n",
       "\t\t<dd><ol class=list-inline>\n",
       "\t<li>1</li>\n",
       "\t<li>2</li>\n",
       "\t<li>3</li>\n",
       "</ol>\n",
       "</dd>\n",
       "</dl>\n"
      ],
      "text/latex": [
       "\\begin{description}\n",
       "\\item[\\$a] \\begin{enumerate*}\n",
       "\\item 1\n",
       "\\item 2\n",
       "\\end{enumerate*}\n",
       "\n",
       "\\item[\\$b] \\begin{enumerate*}\n",
       "\\item 1\n",
       "\\item 2\n",
       "\\item 3\n",
       "\\end{enumerate*}\n",
       "\n",
       "\\end{description}\n"
      ],
      "text/markdown": [
       "$a\n",
       ":   1. 1\n",
       "2. 2\n",
       "\n",
       "\n",
       "\n",
       "$b\n",
       ":   1. 1\n",
       "2. 2\n",
       "3. 3\n",
       "\n",
       "\n",
       "\n",
       "\n",
       "\n"
      ],
      "text/plain": [
       "$a\n",
       "[1] 1 2\n",
       "\n",
       "$b\n",
       "[1] 1 2 3\n"
      ]
     },
     "metadata": {},
     "output_type": "display_data"
    }
   ],
   "source": [
    "x<- list(a=1:5,b=rnorm(10),c=rnorm(20,1),d=rnorm(100,5))\n",
    "lapply(x,mean)#laplly returns a list\n",
    "sapply(x,mean)#sapply simplifies lapply; in this case, the list of 4 vectors is returned as one vector\n",
    "x<-1:4\n",
    "lapply(x,runif,min=0,max=10)\n",
    "\n",
    "x<-list(a=matrix(1:4,2,2),b=matrix(1:6,3,2))\n",
    "lapply(x, function(elt) elt[,1])"
   ]
  },
  {
   "cell_type": "code",
   "execution_count": 23,
   "metadata": {},
   "outputs": [
    {
     "data": {
      "text/html": [
       "<table>\n",
       "<tbody>\n",
       "\t<tr><td> 0.2718005</td><td>0.3431848 </td></tr>\n",
       "\t<tr><td>-0.4773752</td><td>0.0183076 </td></tr>\n",
       "</tbody>\n",
       "</table>\n"
      ],
      "text/latex": [
       "\\begin{tabular}{ll}\n",
       "\t  0.2718005 & 0.3431848 \\\\\n",
       "\t -0.4773752 & 0.0183076 \\\\\n",
       "\\end{tabular}\n"
      ],
      "text/markdown": [
       "\n",
       "|  0.2718005 | 0.3431848  |\n",
       "| -0.4773752 | 0.0183076  |\n",
       "\n"
      ],
      "text/plain": [
       "     [,1]       [,2]     \n",
       "[1,]  0.2718005 0.3431848\n",
       "[2,] -0.4773752 0.0183076"
      ]
     },
     "metadata": {},
     "output_type": "display_data"
    },
    {
     "data": {
      "text/html": [
       "<table>\n",
       "<tbody>\n",
       "\t<tr><td> 0.2718005</td><td>0.3431848 </td></tr>\n",
       "\t<tr><td>-0.4773752</td><td>0.0183076 </td></tr>\n",
       "</tbody>\n",
       "</table>\n"
      ],
      "text/latex": [
       "\\begin{tabular}{ll}\n",
       "\t  0.2718005 & 0.3431848 \\\\\n",
       "\t -0.4773752 & 0.0183076 \\\\\n",
       "\\end{tabular}\n"
      ],
      "text/markdown": [
       "\n",
       "|  0.2718005 | 0.3431848  |\n",
       "| -0.4773752 | 0.0183076  |\n",
       "\n"
      ],
      "text/plain": [
       "     [,1]       [,2]     \n",
       "[1,]  0.2718005 0.3431848\n",
       "[2,] -0.4773752 0.0183076"
      ]
     },
     "metadata": {},
     "output_type": "display_data"
    }
   ],
   "source": [
    "x<- matrix(rnorm(200),20,10)\n",
    "#apply(x,2,mean) # 2nd number is margin; sort of indicates whether doing by row or column; column in this case when margin=2\n",
    "#margin means collapse dimension; when margin=2, retain the rows but collapse the columns by doing the function\n",
    "#apply(x,1,sum)\n",
    "\n",
    "#apply(x,1,quantile,probs=c(0.25,0.75))\n",
    "\n",
    "a<-array(rnorm(2*2*10),c(2,2,10)) #there is a third dimension which has 10 vectors, like 2x2 matrices stacked 10 times\n",
    "apply(a,c(1,2),mean)#gets average of the 2x2 matrices, margin means keep 1st and 2nd dimension(row+column) but collapse 3rd\n",
    "rowMeans(a,dims=(2)) #optimized apply for getting mean "
   ]
  },
  {
   "cell_type": "code",
   "execution_count": null,
   "metadata": {},
   "outputs": [],
   "source": []
  }
 ],
 "metadata": {
  "kernelspec": {
   "display_name": "R",
   "language": "R",
   "name": "ir"
  },
  "language_info": {
   "codemirror_mode": "r",
   "file_extension": ".r",
   "mimetype": "text/x-r-source",
   "name": "R",
   "pygments_lexer": "r",
   "version": "3.6.1"
  }
 },
 "nbformat": 4,
 "nbformat_minor": 4
}
