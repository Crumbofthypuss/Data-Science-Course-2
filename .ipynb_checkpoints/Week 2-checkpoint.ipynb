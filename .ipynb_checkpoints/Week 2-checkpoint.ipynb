{
 "cells": [
  {
   "cell_type": "code",
   "execution_count": 2,
   "metadata": {},
   "outputs": [],
   "source": [
    "x <-4\n",
    "if(x>3){\n",
    "    y <-10\n",
    "} else if(x<3){\n",
    "    y <-0\n",
    "} else{\n",
    "    0\n",
    "}"
   ]
  },
  {
   "cell_type": "code",
   "execution_count": 6,
   "metadata": {},
   "outputs": [
    {
     "name": "stdout",
     "output_type": "stream",
     "text": [
      "[1] 1\n",
      "[1] 2\n",
      "[1] 3\n",
      "[1] 4\n",
      "[1] 5\n",
      "[1] 6\n",
      "[1] 7\n",
      "[1] 8\n",
      "[1] 9\n",
      "[1] 10\n",
      "[1] \"a\"\n",
      "[1] \"b\"\n",
      "[1] \"c\"\n",
      "[1] \"d\"\n",
      "[1] \"a\"\n",
      "[1] \"b\"\n",
      "[1] \"c\"\n",
      "[1] \"d\"\n",
      "[1] \"a\"\n",
      "[1] \"b\"\n",
      "[1] \"c\"\n",
      "[1] \"d\"\n",
      "[1] \"a\"\n",
      "[1] \"b\"\n",
      "[1] \"c\"\n",
      "[1] \"d\"\n"
     ]
    }
   ],
   "source": [
    "for(i in 1:10){\n",
    "    print(i)\n",
    "}\n",
    "x<-c(\"a\",\"b\",\"c\",\"d\")\n",
    "\n",
    "for(i in 1:4){\n",
    "    print(x[i])\n",
    "}\n",
    "for (i in seq_along(x)){\n",
    "    print(x[i])\n",
    "}\n",
    "for (letter in x){\n",
    "    print(letter)\n",
    "}\n",
    "for(i in 1:4) print(x[i])"
   ]
  },
  {
   "cell_type": "code",
   "execution_count": 8,
   "metadata": {},
   "outputs": [
    {
     "name": "stdout",
     "output_type": "stream",
     "text": [
      "[1] 1\n",
      "[1] 3\n",
      "[1] 5\n",
      "[1] 2\n",
      "[1] 4\n",
      "[1] 6\n"
     ]
    }
   ],
   "source": [
    "x<- matrix(1:6,2,3)\n",
    "for (i in seq_len(nrow(x))){\n",
    "    for(j in seq_len(ncol(x))){\n",
    "        print(x[i,j])\n",
    "    }\n",
    "}"
   ]
  },
  {
   "cell_type": "code",
   "execution_count": 4,
   "metadata": {},
   "outputs": [
    {
     "name": "stdout",
     "output_type": "stream",
     "text": [
      "[1] 5\n",
      "[1] 4\n",
      "[1] 5\n",
      "[1] 6\n",
      "[1] 7\n",
      "[1] 8\n",
      "[1] 7\n",
      "[1] 6\n",
      "[1] 7\n",
      "[1] 6\n",
      "[1] 7\n",
      "[1] 6\n",
      "[1] 5\n",
      "[1] 6\n",
      "[1] 7\n",
      "[1] 6\n",
      "[1] 5\n",
      "[1] 6\n",
      "[1] 5\n",
      "[1] 4\n",
      "[1] 3\n"
     ]
    }
   ],
   "source": [
    "z<- 5\n",
    "while (z>=3 && z<=10){#conditions are evaluated from left to right\n",
    "    print(z)\n",
    "    coin <- rbinom(1,1,0.5)\n",
    "    if(coin==1){\n",
    "        z<-z+1\n",
    "    } else{\n",
    "        z<-z-1\n",
    "    }\n",
    "}"
   ]
  },
  {
   "cell_type": "code",
   "execution_count": 3,
   "metadata": {},
   "outputs": [
    {
     "ename": "ERROR",
     "evalue": "Error in computeEstimate(): could not find function \"computeEstimate\"\n",
     "output_type": "error",
     "traceback": [
      "Error in computeEstimate(): could not find function \"computeEstimate\"\nTraceback:\n"
     ]
    }
   ],
   "source": [
    "x0<-1\n",
    "tol <- 1e-08\n",
    "\n",
    "repeat{\n",
    "    x1<-computeEstimate()\n",
    "    if (abs(x1-x0)<tol){\n",
    "        break\n",
    "    } else{\n",
    "        x0<-x1\n",
    "    }\n",
    "}"
   ]
  },
  {
   "cell_type": "code",
   "execution_count": 6,
   "metadata": {},
   "outputs": [
    {
     "name": "stdout",
     "output_type": "stream",
     "text": [
      "[1] 21\n",
      "[1] 22\n",
      "[1] 23\n",
      "[1] 24\n",
      "[1] 25\n",
      "[1] 26\n",
      "[1] 27\n",
      "[1] 28\n",
      "[1] 29\n",
      "[1] 30\n"
     ]
    }
   ],
   "source": [
    "for(i in 1:30){\n",
    "    if(i<=20){\n",
    "        next #similar to continue\n",
    "    }\n",
    "    print(i)\n",
    "    \n",
    "}"
   ]
  },
  {
   "cell_type": "code",
   "execution_count": 23,
   "metadata": {},
   "outputs": [
    {
     "data": {
      "text/html": [
       "<ol class=list-inline>\n",
       "\t<li>42.1293103448276</li>\n",
       "\t<li>185.931506849315</li>\n",
       "\t<li>9.95751633986928</li>\n",
       "\t<li>77.8823529411765</li>\n",
       "\t<li>6.99346405228758</li>\n",
       "\t<li>15.8039215686275</li>\n",
       "</ol>\n"
      ],
      "text/latex": [
       "\\begin{enumerate*}\n",
       "\\item 42.1293103448276\n",
       "\\item 185.931506849315\n",
       "\\item 9.95751633986928\n",
       "\\item 77.8823529411765\n",
       "\\item 6.99346405228758\n",
       "\\item 15.8039215686275\n",
       "\\end{enumerate*}\n"
      ],
      "text/markdown": [
       "1. 42.1293103448276\n",
       "2. 185.931506849315\n",
       "3. 9.95751633986928\n",
       "4. 77.8823529411765\n",
       "5. 6.99346405228758\n",
       "6. 15.8039215686275\n",
       "\n",
       "\n"
      ],
      "text/plain": [
       "[1]  42.129310 185.931507   9.957516  77.882353   6.993464  15.803922"
      ]
     },
     "metadata": {},
     "output_type": "display_data"
    }
   ],
   "source": [
    "add2 <-function(x,y){\n",
    "    x+y\n",
    "}\n",
    "\n",
    "above10 <- function(x){\n",
    "    use <- x>10\n",
    "    x[use]\n",
    "}\n",
    "\n",
    "above<- function(x,n=10){\n",
    "    use <- x>n\n",
    "    x[use]\n",
    "}\n",
    "\n",
    "x<- 1:20\n",
    "\n",
    "columnmean<- function(y, removeNA=TRUE){\n",
    "    nc<-ncol(y)\n",
    "    nc\n",
    "    means<- numeric(nc)\n",
    "    for(i in 1:nc){\n",
    "        means[i]<- mean(y[,i],na.rm= removeNA)\n",
    "    }\n",
    "    means\n",
    "}\n",
    "columnmean(airquality)"
   ]
  },
  {
   "cell_type": "code",
   "execution_count": null,
   "metadata": {},
   "outputs": [],
   "source": []
  }
 ],
 "metadata": {
  "kernelspec": {
   "display_name": "R",
   "language": "R",
   "name": "ir"
  }
 },
 "nbformat": 4,
 "nbformat_minor": 4
}
